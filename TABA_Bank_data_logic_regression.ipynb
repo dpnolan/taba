{
  "nbformat": 4,
  "nbformat_minor": 0,
  "metadata": {
    "colab": {
      "provenance": [],
      "collapsed_sections": [
        "7GYiBIiBZXX_"
      ],
      "authorship_tag": "ABX9TyM6S/h843DNOE941d4n3tWA",
      "include_colab_link": true
    },
    "kernelspec": {
      "name": "ir",
      "display_name": "R"
    },
    "language_info": {
      "name": "R"
    }
  },
  "cells": [
    {
      "cell_type": "markdown",
      "metadata": {
        "id": "view-in-github",
        "colab_type": "text"
      },
      "source": [
        "<a href=\"https://colab.research.google.com/github/dpnolan/taba/blob/main/TABA_Bank_data_logic_regression.ipynb\" target=\"_parent\"><img src=\"https://colab.research.google.com/assets/colab-badge.svg\" alt=\"Open In Colab\"/></a>"
      ]
    },
    {
      "cell_type": "markdown",
      "source": [
        "# Part B\n",
        "# Bank telesales data analysis using Logisitic Regression"
      ],
      "metadata": {
        "id": "7GYiBIiBZXX_"
      }
    },
    {
      "cell_type": "code",
      "source": [
        "# Start a new R notebook in Jupyter using URL https://colab.research.google.com/notebook#create=true&language=r "
      ],
      "metadata": {
        "id": "RuqR2I1gPClV"
      },
      "execution_count": 4,
      "outputs": []
    },
    {
      "cell_type": "markdown",
      "source": [
        "# Install R and libraries "
      ],
      "metadata": {
        "id": "C5dNs-VlB64m"
      }
    },
    {
      "cell_type": "markdown",
      "source": [
        "The input file gets deleted whenever a runtime ends, so upload the file __Bank.csv__ through the upload icon (page plus up arrow) on the left hand column into the __sample_data__ directory"
      ],
      "metadata": {
        "id": "poKNZvSAaNFj"
      }
    },
    {
      "cell_type": "code",
      "source": [
        "getwd()"
      ],
      "metadata": {
        "colab": {
          "base_uri": "https://localhost:8080/",
          "height": 34
        },
        "id": "dZmvVf9waroS",
        "outputId": "43951588-1e1e-45b9-abc3-6f20a40092b6"
      },
      "execution_count": 8,
      "outputs": [
        {
          "output_type": "display_data",
          "data": {
            "text/html": [
              "'/content'"
            ],
            "text/markdown": "'/content'",
            "text/latex": "'/content'",
            "text/plain": [
              "[1] \"/content\""
            ]
          },
          "metadata": {}
        }
      ]
    },
    {
      "cell_type": "code",
      "source": [
        "setwd(\"/content/\")"
      ],
      "metadata": {
        "id": "ywDzz-3tav4K"
      },
      "execution_count": 18,
      "outputs": []
    },
    {
      "cell_type": "code",
      "source": [
        "list.files()\n"
      ],
      "metadata": {
        "colab": {
          "base_uri": "https://localhost:8080/",
          "height": 34
        },
        "id": "PA5_fpuEaEy7",
        "outputId": "2ccf158c-d3f3-4ce7-b564-5b9da2d2b7df"
      },
      "execution_count": 10,
      "outputs": [
        {
          "output_type": "display_data",
          "data": {
            "text/html": [
              "<style>\n",
              ".list-inline {list-style: none; margin:0; padding: 0}\n",
              ".list-inline>li {display: inline-block}\n",
              ".list-inline>li:not(:last-child)::after {content: \"\\00b7\"; padding: 0 .5ex}\n",
              "</style>\n",
              "<ol class=list-inline><li>'Bank.csv'</li><li>'sample_data'</li></ol>\n"
            ],
            "text/markdown": "1. 'Bank.csv'\n2. 'sample_data'\n\n\n",
            "text/latex": "\\begin{enumerate*}\n\\item 'Bank.csv'\n\\item 'sample\\_data'\n\\end{enumerate*}\n",
            "text/plain": [
              "[1] \"Bank.csv\"    \"sample_data\""
            ]
          },
          "metadata": {}
        }
      ]
    },
    {
      "cell_type": "code",
      "source": [
        "bank=read.csv('Bank.csv',header=TRUE, sep=\",\", row.names=NULL)\n",
        "bank=data.frame(bank)"
      ],
      "metadata": {
        "id": "LnEyIsl-Z84g"
      },
      "execution_count": 21,
      "outputs": []
    },
    {
      "cell_type": "code",
      "source": [
        "summary(bank)"
      ],
      "metadata": {
        "colab": {
          "base_uri": "https://localhost:8080/",
          "height": 624
        },
        "id": "_lclR7aRZ8z5",
        "outputId": "1d2e8a9a-14b1-42e3-e380-89bbda85f651"
      },
      "execution_count": 22,
      "outputs": [
        {
          "output_type": "display_data",
          "data": {
            "text/plain": [
              "  row.names          f.employed          married           secondary        \n",
              " Length:32471       Length:32471       Length:32471       Length:32471      \n",
              " Class :character   Class :character   Class :character   Class :character  \n",
              " Mode  :character   Mode  :character   Mode  :character   Mode  :character  \n",
              "                                                                            \n",
              "                                                                            \n",
              "                                                                            \n",
              "      no                X1523            no.1               yes           \n",
              " Length:32471       Min.   : -8019   Length:32471       Length:32471      \n",
              " Class :character   1st Qu.:    83   Class :character   Class :character  \n",
              " Mode  :character   Median :   478   Mode  :character   Mode  :character  \n",
              "                    Mean   :  1433                                        \n",
              "                    3rd Qu.:  1509                                        \n",
              "                    Max.   :102127                                        \n",
              "   cellular               X7            jul                 X316     \n",
              " Length:32471       Min.   : 1.00   Length:32471       Min.   :   0  \n",
              " Class :character   1st Qu.: 9.00   Class :character   1st Qu.: 103  \n",
              " Mode  :character   Median :17.00   Mode  :character   Median : 180  \n",
              "                    Mean   :16.01                      Mean   : 259  \n",
              "                    3rd Qu.:22.00                      3rd Qu.: 321  \n",
              "                    Max.   :31.00                      Max.   :4918  \n",
              "       X2              X.1               X0            unknown         \n",
              " Min.   : 1.000   Min.   : -1.00   Min.   :  0.000   Length:32471      \n",
              " 1st Qu.: 1.000   1st Qu.: -1.00   1st Qu.:  0.000   Class :character  \n",
              " Median : 2.000   Median : -1.00   Median :  0.000   Mode  :character  \n",
              " Mean   : 2.737   Mean   : 56.36   Mean   :  0.808                     \n",
              " 3rd Qu.: 3.000   3rd Qu.: 13.50   3rd Qu.:  1.000                     \n",
              " Max.   :50.000   Max.   :871.00   Max.   :275.000                     \n",
              "     no.2          \n",
              " Length:32471      \n",
              " Class :character  \n",
              " Mode  :character  \n",
              "                   \n",
              "                   \n",
              "                   "
            ]
          },
          "metadata": {}
        }
      ]
    },
    {
      "cell_type": "code",
      "source": [],
      "metadata": {
        "id": "w2dAgY4KZ8q-"
      },
      "execution_count": null,
      "outputs": []
    }
  ]
}