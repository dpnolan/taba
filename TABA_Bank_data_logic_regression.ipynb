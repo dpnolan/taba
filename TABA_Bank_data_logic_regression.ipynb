{
  "nbformat": 4,
  "nbformat_minor": 0,
  "metadata": {
    "colab": {
      "provenance": [],
      "toc_visible": true,
      "authorship_tag": "ABX9TyP2BS3DSQ/5OQh6yR/2ipbf",
      "include_colab_link": true
    },
    "kernelspec": {
      "name": "ir",
      "display_name": "R"
    },
    "language_info": {
      "name": "R"
    }
  },
  "cells": [
    {
      "cell_type": "markdown",
      "metadata": {
        "id": "view-in-github",
        "colab_type": "text"
      },
      "source": [
        "<a href=\"https://colab.research.google.com/github/dpnolan/taba/blob/main/TABA_Bank_data_logic_regression.ipynb\" target=\"_parent\"><img src=\"https://colab.research.google.com/assets/colab-badge.svg\" alt=\"Open In Colab\"/></a>"
      ]
    },
    {
      "cell_type": "markdown",
      "source": [
        "# Part B\n",
        "# Bank telesales data analysis using Logisitic Regression"
      ],
      "metadata": {
        "id": "7GYiBIiBZXX_"
      }
    },
    {
      "cell_type": "code",
      "source": [
        "# Start a new R notebook in Jupyter using URL https://colab.research.google.com/notebook#create=true&language=r "
      ],
      "metadata": {
        "id": "RuqR2I1gPClV"
      },
      "execution_count": 4,
      "outputs": []
    },
    {
      "cell_type": "markdown",
      "source": [
        "# Install R and libraries "
      ],
      "metadata": {
        "id": "C5dNs-VlB64m"
      }
    },
    {
      "cell_type": "markdown",
      "source": [
        "The input file gets deleted whenever a runtime ends, so upload the file __Bank.csv__ through the upload icon (page plus up arrow) on the left hand column into the __sample_data__ directory"
      ],
      "metadata": {
        "id": "poKNZvSAaNFj"
      }
    },
    {
      "cell_type": "code",
      "source": [
        "getwd()"
      ],
      "metadata": {
        "colab": {
          "base_uri": "https://localhost:8080/",
          "height": 34
        },
        "id": "dZmvVf9waroS",
        "outputId": "8b496246-6e27-4084-e11d-c801b118bcf2"
      },
      "execution_count": 41,
      "outputs": [
        {
          "output_type": "display_data",
          "data": {
            "text/html": [
              "'/content'"
            ],
            "text/markdown": "'/content'",
            "text/latex": "'/content'",
            "text/plain": [
              "[1] \"/content\""
            ]
          },
          "metadata": {}
        }
      ]
    },
    {
      "cell_type": "markdown",
      "source": [
        "# Upload and import bank data"
      ],
      "metadata": {
        "id": "ADeB2NmrcN6m"
      }
    },
    {
      "cell_type": "code",
      "source": [
        "setwd(\"/content/sample_data\")"
      ],
      "metadata": {
        "id": "ywDzz-3tav4K"
      },
      "execution_count": 42,
      "outputs": []
    },
    {
      "cell_type": "code",
      "source": [
        "list.files()\n"
      ],
      "metadata": {
        "colab": {
          "base_uri": "https://localhost:8080/",
          "height": 34
        },
        "id": "PA5_fpuEaEy7",
        "outputId": "4c419fd5-0de0-4b37-fdc3-69b712b06e28"
      },
      "execution_count": 45,
      "outputs": [
        {
          "output_type": "display_data",
          "data": {
            "text/html": [
              "<style>\n",
              ".list-inline {list-style: none; margin:0; padding: 0}\n",
              ".list-inline>li {display: inline-block}\n",
              ".list-inline>li:not(:last-child)::after {content: \"\\00b7\"; padding: 0 .5ex}\n",
              "</style>\n",
              "<ol class=list-inline><li>'anscombe.json'</li><li>'Bank.csv'</li><li>'california_housing_test.csv'</li><li>'california_housing_train.csv'</li><li>'mnist_test.csv'</li><li>'mnist_train_small.csv'</li><li>'README.md'</li></ol>\n"
            ],
            "text/markdown": "1. 'anscombe.json'\n2. 'Bank.csv'\n3. 'california_housing_test.csv'\n4. 'california_housing_train.csv'\n5. 'mnist_test.csv'\n6. 'mnist_train_small.csv'\n7. 'README.md'\n\n\n",
            "text/latex": "\\begin{enumerate*}\n\\item 'anscombe.json'\n\\item 'Bank.csv'\n\\item 'california\\_housing\\_test.csv'\n\\item 'california\\_housing\\_train.csv'\n\\item 'mnist\\_test.csv'\n\\item 'mnist\\_train\\_small.csv'\n\\item 'README.md'\n\\end{enumerate*}\n",
            "text/plain": [
              "[1] \"anscombe.json\"                \"Bank.csv\"                    \n",
              "[3] \"california_housing_test.csv\"  \"california_housing_train.csv\"\n",
              "[5] \"mnist_test.csv\"               \"mnist_train_small.csv\"       \n",
              "[7] \"README.md\"                   "
            ]
          },
          "metadata": {}
        }
      ]
    },
    {
      "cell_type": "code",
      "source": [
        "rm(bank)"
      ],
      "metadata": {
        "id": "gXtPfW0yeBhM"
      },
      "execution_count": 46,
      "outputs": []
    },
    {
      "cell_type": "code",
      "source": [
        "bank=read.csv('Bank.csv',header=TRUE, sep=\",\", row.names=NULL)\n",
        "bank=data.frame(bank)"
      ],
      "metadata": {
        "id": "LnEyIsl-Z84g"
      },
      "execution_count": 71,
      "outputs": []
    },
    {
      "cell_type": "code",
      "source": [
        "head(bank)"
      ],
      "metadata": {
        "colab": {
          "base_uri": "https://localhost:8080/",
          "height": 286
        },
        "id": "jlAf4sUpdaGm",
        "outputId": "77adf8a4-7ec0-485f-af36-82406a9e5269"
      },
      "execution_count": 72,
      "outputs": [
        {
          "output_type": "display_data",
          "data": {
            "text/html": [
              "<table class=\"dataframe\">\n",
              "<caption>A data.frame: 6 × 17</caption>\n",
              "<thead>\n",
              "\t<tr><th></th><th scope=col>age</th><th scope=col>job</th><th scope=col>marital</th><th scope=col>education</th><th scope=col>default</th><th scope=col>balance</th><th scope=col>housing</th><th scope=col>loan</th><th scope=col>contact</th><th scope=col>day</th><th scope=col>month</th><th scope=col>duration</th><th scope=col>campaign</th><th scope=col>pdays</th><th scope=col>previous</th><th scope=col>poutcome</th><th scope=col>y</th></tr>\n",
              "\t<tr><th></th><th scope=col>&lt;int&gt;</th><th scope=col>&lt;chr&gt;</th><th scope=col>&lt;chr&gt;</th><th scope=col>&lt;chr&gt;</th><th scope=col>&lt;chr&gt;</th><th scope=col>&lt;int&gt;</th><th scope=col>&lt;chr&gt;</th><th scope=col>&lt;chr&gt;</th><th scope=col>&lt;chr&gt;</th><th scope=col>&lt;int&gt;</th><th scope=col>&lt;chr&gt;</th><th scope=col>&lt;int&gt;</th><th scope=col>&lt;int&gt;</th><th scope=col>&lt;int&gt;</th><th scope=col>&lt;int&gt;</th><th scope=col>&lt;chr&gt;</th><th scope=col>&lt;chr&gt;</th></tr>\n",
              "</thead>\n",
              "<tbody>\n",
              "\t<tr><th scope=row>1</th><td>58</td><td>management  </td><td>married</td><td>tertiary </td><td>no</td><td>2143</td><td>yes</td><td>no </td><td>unknown</td><td>5</td><td>may</td><td>261</td><td>1</td><td>-1</td><td>0</td><td>unknown</td><td>no</td></tr>\n",
              "\t<tr><th scope=row>2</th><td>44</td><td>technician  </td><td>single </td><td>secondary</td><td>no</td><td>  29</td><td>yes</td><td>no </td><td>unknown</td><td>5</td><td>may</td><td>151</td><td>1</td><td>-1</td><td>0</td><td>unknown</td><td>no</td></tr>\n",
              "\t<tr><th scope=row>3</th><td>33</td><td>entrepreneur</td><td>married</td><td>secondary</td><td>no</td><td>   2</td><td>yes</td><td>yes</td><td>unknown</td><td>5</td><td>may</td><td> 76</td><td>1</td><td>-1</td><td>0</td><td>unknown</td><td>no</td></tr>\n",
              "\t<tr><th scope=row>4</th><td>47</td><td>blue-collar </td><td>married</td><td>unknown  </td><td>no</td><td>1506</td><td>yes</td><td>no </td><td>unknown</td><td>5</td><td>may</td><td> 92</td><td>1</td><td>-1</td><td>0</td><td>unknown</td><td>no</td></tr>\n",
              "\t<tr><th scope=row>5</th><td>33</td><td>unknown     </td><td>single </td><td>unknown  </td><td>no</td><td>   1</td><td>no </td><td>no </td><td>unknown</td><td>5</td><td>may</td><td>198</td><td>1</td><td>-1</td><td>0</td><td>unknown</td><td>no</td></tr>\n",
              "\t<tr><th scope=row>6</th><td>35</td><td>management  </td><td>married</td><td>tertiary </td><td>no</td><td> 231</td><td>yes</td><td>no </td><td>unknown</td><td>5</td><td>may</td><td>139</td><td>1</td><td>-1</td><td>0</td><td>unknown</td><td>no</td></tr>\n",
              "</tbody>\n",
              "</table>\n"
            ],
            "text/markdown": "\nA data.frame: 6 × 17\n\n| <!--/--> | age &lt;int&gt; | job &lt;chr&gt; | marital &lt;chr&gt; | education &lt;chr&gt; | default &lt;chr&gt; | balance &lt;int&gt; | housing &lt;chr&gt; | loan &lt;chr&gt; | contact &lt;chr&gt; | day &lt;int&gt; | month &lt;chr&gt; | duration &lt;int&gt; | campaign &lt;int&gt; | pdays &lt;int&gt; | previous &lt;int&gt; | poutcome &lt;chr&gt; | y &lt;chr&gt; |\n|---|---|---|---|---|---|---|---|---|---|---|---|---|---|---|---|---|---|\n| 1 | 58 | management   | married | tertiary  | no | 2143 | yes | no  | unknown | 5 | may | 261 | 1 | -1 | 0 | unknown | no |\n| 2 | 44 | technician   | single  | secondary | no |   29 | yes | no  | unknown | 5 | may | 151 | 1 | -1 | 0 | unknown | no |\n| 3 | 33 | entrepreneur | married | secondary | no |    2 | yes | yes | unknown | 5 | may |  76 | 1 | -1 | 0 | unknown | no |\n| 4 | 47 | blue-collar  | married | unknown   | no | 1506 | yes | no  | unknown | 5 | may |  92 | 1 | -1 | 0 | unknown | no |\n| 5 | 33 | unknown      | single  | unknown   | no |    1 | no  | no  | unknown | 5 | may | 198 | 1 | -1 | 0 | unknown | no |\n| 6 | 35 | management   | married | tertiary  | no |  231 | yes | no  | unknown | 5 | may | 139 | 1 | -1 | 0 | unknown | no |\n\n",
            "text/latex": "A data.frame: 6 × 17\n\\begin{tabular}{r|lllllllllllllllll}\n  & age & job & marital & education & default & balance & housing & loan & contact & day & month & duration & campaign & pdays & previous & poutcome & y\\\\\n  & <int> & <chr> & <chr> & <chr> & <chr> & <int> & <chr> & <chr> & <chr> & <int> & <chr> & <int> & <int> & <int> & <int> & <chr> & <chr>\\\\\n\\hline\n\t1 & 58 & management   & married & tertiary  & no & 2143 & yes & no  & unknown & 5 & may & 261 & 1 & -1 & 0 & unknown & no\\\\\n\t2 & 44 & technician   & single  & secondary & no &   29 & yes & no  & unknown & 5 & may & 151 & 1 & -1 & 0 & unknown & no\\\\\n\t3 & 33 & entrepreneur & married & secondary & no &    2 & yes & yes & unknown & 5 & may &  76 & 1 & -1 & 0 & unknown & no\\\\\n\t4 & 47 & blue-collar  & married & unknown   & no & 1506 & yes & no  & unknown & 5 & may &  92 & 1 & -1 & 0 & unknown & no\\\\\n\t5 & 33 & unknown      & single  & unknown   & no &    1 & no  & no  & unknown & 5 & may & 198 & 1 & -1 & 0 & unknown & no\\\\\n\t6 & 35 & management   & married & tertiary  & no &  231 & yes & no  & unknown & 5 & may & 139 & 1 & -1 & 0 & unknown & no\\\\\n\\end{tabular}\n",
            "text/plain": [
              "  age job          marital education default balance housing loan contact day\n",
              "1 58  management   married tertiary  no      2143    yes     no   unknown 5  \n",
              "2 44  technician   single  secondary no        29    yes     no   unknown 5  \n",
              "3 33  entrepreneur married secondary no         2    yes     yes  unknown 5  \n",
              "4 47  blue-collar  married unknown   no      1506    yes     no   unknown 5  \n",
              "5 33  unknown      single  unknown   no         1    no      no   unknown 5  \n",
              "6 35  management   married tertiary  no       231    yes     no   unknown 5  \n",
              "  month duration campaign pdays previous poutcome y \n",
              "1 may   261      1        -1    0        unknown  no\n",
              "2 may   151      1        -1    0        unknown  no\n",
              "3 may    76      1        -1    0        unknown  no\n",
              "4 may    92      1        -1    0        unknown  no\n",
              "5 may   198      1        -1    0        unknown  no\n",
              "6 may   139      1        -1    0        unknown  no"
            ]
          },
          "metadata": {}
        }
      ]
    },
    {
      "cell_type": "code",
      "source": [
        "summary(bank)"
      ],
      "metadata": {
        "colab": {
          "base_uri": "https://localhost:8080/",
          "height": 624
        },
        "id": "_lclR7aRZ8z5",
        "outputId": "5c9518d6-5d79-4693-e94e-9a14c56b5605"
      },
      "execution_count": 73,
      "outputs": [
        {
          "output_type": "display_data",
          "data": {
            "text/plain": [
              "      age            job              marital           education        \n",
              " Min.   :18.00   Length:45211       Length:45211       Length:45211      \n",
              " 1st Qu.:33.00   Class :character   Class :character   Class :character  \n",
              " Median :39.00   Mode  :character   Mode  :character   Mode  :character  \n",
              " Mean   :40.94                                                           \n",
              " 3rd Qu.:48.00                                                           \n",
              " Max.   :95.00                                                           \n",
              "   default             balance         housing              loan          \n",
              " Length:45211       Min.   : -8019   Length:45211       Length:45211      \n",
              " Class :character   1st Qu.:    72   Class :character   Class :character  \n",
              " Mode  :character   Median :   448   Mode  :character   Mode  :character  \n",
              "                    Mean   :  1362                                        \n",
              "                    3rd Qu.:  1428                                        \n",
              "                    Max.   :102127                                        \n",
              "   contact               day           month              duration     \n",
              " Length:45211       Min.   : 1.00   Length:45211       Min.   :   0.0  \n",
              " Class :character   1st Qu.: 8.00   Class :character   1st Qu.: 103.0  \n",
              " Mode  :character   Median :16.00   Mode  :character   Median : 180.0  \n",
              "                    Mean   :15.81                      Mean   : 258.2  \n",
              "                    3rd Qu.:21.00                      3rd Qu.: 319.0  \n",
              "                    Max.   :31.00                      Max.   :4918.0  \n",
              "    campaign          pdays          previous          poutcome        \n",
              " Min.   : 1.000   Min.   : -1.0   Min.   :  0.0000   Length:45211      \n",
              " 1st Qu.: 1.000   1st Qu.: -1.0   1st Qu.:  0.0000   Class :character  \n",
              " Median : 2.000   Median : -1.0   Median :  0.0000   Mode  :character  \n",
              " Mean   : 2.764   Mean   : 40.2   Mean   :  0.5803                     \n",
              " 3rd Qu.: 3.000   3rd Qu.: -1.0   3rd Qu.:  0.0000                     \n",
              " Max.   :63.000   Max.   :871.0   Max.   :275.0000                     \n",
              "      y            \n",
              " Length:45211      \n",
              " Class :character  \n",
              " Mode  :character  \n",
              "                   \n",
              "                   \n",
              "                   "
            ]
          },
          "metadata": {}
        }
      ]
    },
    {
      "cell_type": "code",
      "source": [
        "bank_clean<-bank"
      ],
      "metadata": {
        "id": "w2dAgY4KZ8q-"
      },
      "execution_count": 74,
      "outputs": []
    },
    {
      "cell_type": "markdown",
      "source": [
        "# Pre-processing"
      ],
      "metadata": {
        "id": "F55eWrxjcLT-"
      }
    },
    {
      "cell_type": "markdown",
      "source": [
        "Note that balance is in the dataset but not in the document   \n",
        "I include it in the analysis here\n"
      ],
      "metadata": {
        "id": "l-FUzS5rcbuN"
      }
    },
    {
      "cell_type": "code",
      "source": [
        "# Convert the categorical variables to factors in R\n",
        "job_factor<-factor(bank$job)"
      ],
      "metadata": {
        "id": "k9-Dv_JpcWmV"
      },
      "execution_count": 51,
      "outputs": []
    },
    {
      "cell_type": "code",
      "source": [
        "summary(job_factor)"
      ],
      "metadata": {
        "colab": {
          "base_uri": "https://localhost:8080/",
          "height": 52
        },
        "id": "mNz25hnOcehV",
        "outputId": "2c5280b8-b444-4fd9-8c88-2c7bcac11360"
      },
      "execution_count": 75,
      "outputs": [
        {
          "output_type": "display_data",
          "data": {
            "text/html": [
              "<style>\n",
              ".dl-inline {width: auto; margin:0; padding: 0}\n",
              ".dl-inline>dt, .dl-inline>dd {float: none; width: auto; display: inline-block}\n",
              ".dl-inline>dt::after {content: \":\\0020\"; padding-right: .5ex}\n",
              ".dl-inline>dt:not(:first-of-type) {padding-left: .5ex}\n",
              "</style><dl class=dl-inline><dt>admin.</dt><dd>5171</dd><dt>blue-collar</dt><dd>9732</dd><dt>entrepreneur</dt><dd>1487</dd><dt>housemaid</dt><dd>1240</dd><dt>management</dt><dd>9458</dd><dt>retired</dt><dd>2264</dd><dt>self-employed</dt><dd>1579</dd><dt>services</dt><dd>4154</dd><dt>student</dt><dd>938</dd><dt>technician</dt><dd>7597</dd><dt>unemployed</dt><dd>1303</dd><dt>unknown</dt><dd>288</dd></dl>\n"
            ],
            "text/markdown": "admin.\n:   5171blue-collar\n:   9732entrepreneur\n:   1487housemaid\n:   1240management\n:   9458retired\n:   2264self-employed\n:   1579services\n:   4154student\n:   938technician\n:   7597unemployed\n:   1303unknown\n:   288\n\n",
            "text/latex": "\\begin{description*}\n\\item[admin.] 5171\n\\item[blue-collar] 9732\n\\item[entrepreneur] 1487\n\\item[housemaid] 1240\n\\item[management] 9458\n\\item[retired] 2264\n\\item[self-employed] 1579\n\\item[services] 4154\n\\item[student] 938\n\\item[technician] 7597\n\\item[unemployed] 1303\n\\item[unknown] 288\n\\end{description*}\n",
            "text/plain": [
              "       admin.   blue-collar  entrepreneur     housemaid    management \n",
              "         5171          9732          1487          1240          9458 \n",
              "      retired self-employed      services       student    technician \n",
              "         2264          1579          4154           938          7597 \n",
              "   unemployed       unknown \n",
              "         1303           288 "
            ]
          },
          "metadata": {}
        }
      ]
    },
    {
      "cell_type": "code",
      "source": [
        "dim(job_factor)"
      ],
      "metadata": {
        "colab": {
          "base_uri": "https://localhost:8080/",
          "height": 34
        },
        "id": "n4PwKZCgdJTu",
        "outputId": "261b12b7-cff9-4d66-bd1f-6059d5e26aa4"
      },
      "execution_count": 76,
      "outputs": [
        {
          "output_type": "display_data",
          "data": {
            "text/plain": [
              "NULL"
            ]
          },
          "metadata": {}
        }
      ]
    },
    {
      "cell_type": "code",
      "source": [
        "bank_clean<-cbind(bank_clean,job_factor)"
      ],
      "metadata": {
        "id": "iqK_bzcSc50F"
      },
      "execution_count": 77,
      "outputs": []
    },
    {
      "cell_type": "code",
      "source": [
        "marital_factor<-factor(bank$marital)\n",
        "summary(marital_factor)\n",
        "bank_clean<-cbind(bank_clean,marital_factor)\n"
      ],
      "metadata": {
        "colab": {
          "base_uri": "https://localhost:8080/",
          "height": 34
        },
        "id": "_jfbZFawe4bL",
        "outputId": "08573735-d2d8-4253-ce93-1e586145e408"
      },
      "execution_count": 78,
      "outputs": [
        {
          "output_type": "display_data",
          "data": {
            "text/html": [
              "<style>\n",
              ".dl-inline {width: auto; margin:0; padding: 0}\n",
              ".dl-inline>dt, .dl-inline>dd {float: none; width: auto; display: inline-block}\n",
              ".dl-inline>dt::after {content: \":\\0020\"; padding-right: .5ex}\n",
              ".dl-inline>dt:not(:first-of-type) {padding-left: .5ex}\n",
              "</style><dl class=dl-inline><dt>divorced</dt><dd>5207</dd><dt>married</dt><dd>27214</dd><dt>single</dt><dd>12790</dd></dl>\n"
            ],
            "text/markdown": "divorced\n:   5207married\n:   27214single\n:   12790\n\n",
            "text/latex": "\\begin{description*}\n\\item[divorced] 5207\n\\item[married] 27214\n\\item[single] 12790\n\\end{description*}\n",
            "text/plain": [
              "divorced  married   single \n",
              "    5207    27214    12790 "
            ]
          },
          "metadata": {}
        }
      ]
    },
    {
      "cell_type": "code",
      "source": [
        "education_factor<-factor(bank$education)\n",
        "summary(education_factor)\n",
        "bank_clean<-cbind(bank_clean,education_factor)"
      ],
      "metadata": {
        "colab": {
          "base_uri": "https://localhost:8080/",
          "height": 34
        },
        "id": "FhfK47Zae678",
        "outputId": "75f5fee3-b6ec-40d9-a610-28f248f9a936"
      },
      "execution_count": 79,
      "outputs": [
        {
          "output_type": "display_data",
          "data": {
            "text/html": [
              "<style>\n",
              ".dl-inline {width: auto; margin:0; padding: 0}\n",
              ".dl-inline>dt, .dl-inline>dd {float: none; width: auto; display: inline-block}\n",
              ".dl-inline>dt::after {content: \":\\0020\"; padding-right: .5ex}\n",
              ".dl-inline>dt:not(:first-of-type) {padding-left: .5ex}\n",
              "</style><dl class=dl-inline><dt>primary</dt><dd>6851</dd><dt>secondary</dt><dd>23202</dd><dt>tertiary</dt><dd>13301</dd><dt>unknown</dt><dd>1857</dd></dl>\n"
            ],
            "text/markdown": "primary\n:   6851secondary\n:   23202tertiary\n:   13301unknown\n:   1857\n\n",
            "text/latex": "\\begin{description*}\n\\item[primary] 6851\n\\item[secondary] 23202\n\\item[tertiary] 13301\n\\item[unknown] 1857\n\\end{description*}\n",
            "text/plain": [
              "  primary secondary  tertiary   unknown \n",
              "     6851     23202     13301      1857 "
            ]
          },
          "metadata": {}
        }
      ]
    },
    {
      "cell_type": "code",
      "source": [
        "default_factor<-factor(bank$default)\n",
        "summary(default_factor)\n",
        "bank_clean<-cbind(bank_clean,default_factor)"
      ],
      "metadata": {
        "colab": {
          "base_uri": "https://localhost:8080/",
          "height": 34
        },
        "id": "GLEZT3QNe-ra",
        "outputId": "46a2e1c7-953a-41c5-8bb2-fc4c2fb1150b"
      },
      "execution_count": 80,
      "outputs": [
        {
          "output_type": "display_data",
          "data": {
            "text/html": [
              "<style>\n",
              ".dl-inline {width: auto; margin:0; padding: 0}\n",
              ".dl-inline>dt, .dl-inline>dd {float: none; width: auto; display: inline-block}\n",
              ".dl-inline>dt::after {content: \":\\0020\"; padding-right: .5ex}\n",
              ".dl-inline>dt:not(:first-of-type) {padding-left: .5ex}\n",
              "</style><dl class=dl-inline><dt>no</dt><dd>44396</dd><dt>yes</dt><dd>815</dd></dl>\n"
            ],
            "text/markdown": "no\n:   44396yes\n:   815\n\n",
            "text/latex": "\\begin{description*}\n\\item[no] 44396\n\\item[yes] 815\n\\end{description*}\n",
            "text/plain": [
              "   no   yes \n",
              "44396   815 "
            ]
          },
          "metadata": {}
        }
      ]
    },
    {
      "cell_type": "code",
      "source": [
        "housing_factor<-factor(bank$housing)\n",
        "summary(housing_factor)\n",
        "bank_clean<-cbind(bank_clean,housing_factor)"
      ],
      "metadata": {
        "colab": {
          "base_uri": "https://localhost:8080/",
          "height": 34
        },
        "id": "h6XrEm6JfEZb",
        "outputId": "1405f387-8554-4cee-fb20-70585875f6bd"
      },
      "execution_count": 81,
      "outputs": [
        {
          "output_type": "display_data",
          "data": {
            "text/html": [
              "<style>\n",
              ".dl-inline {width: auto; margin:0; padding: 0}\n",
              ".dl-inline>dt, .dl-inline>dd {float: none; width: auto; display: inline-block}\n",
              ".dl-inline>dt::after {content: \":\\0020\"; padding-right: .5ex}\n",
              ".dl-inline>dt:not(:first-of-type) {padding-left: .5ex}\n",
              "</style><dl class=dl-inline><dt>no</dt><dd>20081</dd><dt>yes</dt><dd>25130</dd></dl>\n"
            ],
            "text/markdown": "no\n:   20081yes\n:   25130\n\n",
            "text/latex": "\\begin{description*}\n\\item[no] 20081\n\\item[yes] 25130\n\\end{description*}\n",
            "text/plain": [
              "   no   yes \n",
              "20081 25130 "
            ]
          },
          "metadata": {}
        }
      ]
    },
    {
      "cell_type": "code",
      "source": [
        "loan_factor<-factor(bank$loan)\n",
        "summary(loan_factor)\n",
        "bank_clean<-cbind(bank_clean,loan_factor)"
      ],
      "metadata": {
        "colab": {
          "base_uri": "https://localhost:8080/",
          "height": 34
        },
        "id": "c9JyVx_5fFcE",
        "outputId": "098a56d5-126a-4b68-a475-eaa52a320ce3"
      },
      "execution_count": 82,
      "outputs": [
        {
          "output_type": "display_data",
          "data": {
            "text/html": [
              "<style>\n",
              ".dl-inline {width: auto; margin:0; padding: 0}\n",
              ".dl-inline>dt, .dl-inline>dd {float: none; width: auto; display: inline-block}\n",
              ".dl-inline>dt::after {content: \":\\0020\"; padding-right: .5ex}\n",
              ".dl-inline>dt:not(:first-of-type) {padding-left: .5ex}\n",
              "</style><dl class=dl-inline><dt>no</dt><dd>37967</dd><dt>yes</dt><dd>7244</dd></dl>\n"
            ],
            "text/markdown": "no\n:   37967yes\n:   7244\n\n",
            "text/latex": "\\begin{description*}\n\\item[no] 37967\n\\item[yes] 7244\n\\end{description*}\n",
            "text/plain": [
              "   no   yes \n",
              "37967  7244 "
            ]
          },
          "metadata": {}
        }
      ]
    },
    {
      "cell_type": "code",
      "source": [
        "# month is converted to factor but preserving the defined calendar order\n",
        "month_factor<-factor(bank$month,levels=c('jan','feb','mar','apr','may',\n",
        "                                         'jun','jul','aug','sep','oct','nov','dec'))"
      ],
      "metadata": {
        "id": "ZgM8Qw3gfBED"
      },
      "execution_count": 83,
      "outputs": []
    },
    {
      "cell_type": "code",
      "source": [
        "summary(month_factor)\n",
        "bank_clean<-cbind(bank_clean,month_factor)"
      ],
      "metadata": {
        "colab": {
          "base_uri": "https://localhost:8080/",
          "height": 34
        },
        "id": "_toBaRBCfJot",
        "outputId": "97e1283e-9f33-4761-e885-556b69e05083"
      },
      "execution_count": 84,
      "outputs": [
        {
          "output_type": "display_data",
          "data": {
            "text/html": [
              "<style>\n",
              ".dl-inline {width: auto; margin:0; padding: 0}\n",
              ".dl-inline>dt, .dl-inline>dd {float: none; width: auto; display: inline-block}\n",
              ".dl-inline>dt::after {content: \":\\0020\"; padding-right: .5ex}\n",
              ".dl-inline>dt:not(:first-of-type) {padding-left: .5ex}\n",
              "</style><dl class=dl-inline><dt>jan</dt><dd>1403</dd><dt>feb</dt><dd>2649</dd><dt>mar</dt><dd>477</dd><dt>apr</dt><dd>2932</dd><dt>may</dt><dd>13766</dd><dt>jun</dt><dd>5341</dd><dt>jul</dt><dd>6895</dd><dt>aug</dt><dd>6247</dd><dt>sep</dt><dd>579</dd><dt>oct</dt><dd>738</dd><dt>nov</dt><dd>3970</dd><dt>dec</dt><dd>214</dd></dl>\n"
            ],
            "text/markdown": "jan\n:   1403feb\n:   2649mar\n:   477apr\n:   2932may\n:   13766jun\n:   5341jul\n:   6895aug\n:   6247sep\n:   579oct\n:   738nov\n:   3970dec\n:   214\n\n",
            "text/latex": "\\begin{description*}\n\\item[jan] 1403\n\\item[feb] 2649\n\\item[mar] 477\n\\item[apr] 2932\n\\item[may] 13766\n\\item[jun] 5341\n\\item[jul] 6895\n\\item[aug] 6247\n\\item[sep] 579\n\\item[oct] 738\n\\item[nov] 3970\n\\item[dec] 214\n\\end{description*}\n",
            "text/plain": [
              "  jan   feb   mar   apr   may   jun   jul   aug   sep   oct   nov   dec \n",
              " 1403  2649   477  2932 13766  5341  6895  6247   579   738  3970   214 "
            ]
          },
          "metadata": {}
        }
      ]
    },
    {
      "cell_type": "code",
      "source": [
        "contact_factor<-factor(bank$contact)\n",
        "summary(contact_factor)\n",
        "bank_clean<-cbind(bank_clean,contact_factor)"
      ],
      "metadata": {
        "colab": {
          "base_uri": "https://localhost:8080/",
          "height": 34
        },
        "id": "61F7QGwBfLKP",
        "outputId": "07e288bd-a099-4d26-a97c-a9e242be44c2"
      },
      "execution_count": 85,
      "outputs": [
        {
          "output_type": "display_data",
          "data": {
            "text/html": [
              "<style>\n",
              ".dl-inline {width: auto; margin:0; padding: 0}\n",
              ".dl-inline>dt, .dl-inline>dd {float: none; width: auto; display: inline-block}\n",
              ".dl-inline>dt::after {content: \":\\0020\"; padding-right: .5ex}\n",
              ".dl-inline>dt:not(:first-of-type) {padding-left: .5ex}\n",
              "</style><dl class=dl-inline><dt>cellular</dt><dd>29285</dd><dt>telephone</dt><dd>2906</dd><dt>unknown</dt><dd>13020</dd></dl>\n"
            ],
            "text/markdown": "cellular\n:   29285telephone\n:   2906unknown\n:   13020\n\n",
            "text/latex": "\\begin{description*}\n\\item[cellular] 29285\n\\item[telephone] 2906\n\\item[unknown] 13020\n\\end{description*}\n",
            "text/plain": [
              " cellular telephone   unknown \n",
              "    29285      2906     13020 "
            ]
          },
          "metadata": {}
        }
      ]
    },
    {
      "cell_type": "code",
      "source": [
        "poutcome_factor<-factor(bank$poutcome)\n",
        "summary(poutcome_factor)\n",
        "bank_clean<-cbind(bank_clean,poutcome_factor)"
      ],
      "metadata": {
        "colab": {
          "base_uri": "https://localhost:8080/",
          "height": 34
        },
        "id": "Wc_5fALpfNjz",
        "outputId": "2a0ced65-09af-4d0a-a0a6-d146f7d32c60"
      },
      "execution_count": 86,
      "outputs": [
        {
          "output_type": "display_data",
          "data": {
            "text/html": [
              "<style>\n",
              ".dl-inline {width: auto; margin:0; padding: 0}\n",
              ".dl-inline>dt, .dl-inline>dd {float: none; width: auto; display: inline-block}\n",
              ".dl-inline>dt::after {content: \":\\0020\"; padding-right: .5ex}\n",
              ".dl-inline>dt:not(:first-of-type) {padding-left: .5ex}\n",
              "</style><dl class=dl-inline><dt>failure</dt><dd>4901</dd><dt>other</dt><dd>1840</dd><dt>success</dt><dd>1511</dd><dt>unknown</dt><dd>36959</dd></dl>\n"
            ],
            "text/markdown": "failure\n:   4901other\n:   1840success\n:   1511unknown\n:   36959\n\n",
            "text/latex": "\\begin{description*}\n\\item[failure] 4901\n\\item[other] 1840\n\\item[success] 1511\n\\item[unknown] 36959\n\\end{description*}\n",
            "text/plain": [
              "failure   other success unknown \n",
              "   4901    1840    1511   36959 "
            ]
          },
          "metadata": {}
        }
      ]
    },
    {
      "cell_type": "code",
      "source": [
        "#y is the binary outcome variable\n",
        "y_factor<-factor(bank$y)\n",
        "summary(y_factor)\n",
        "bank_clean<-cbind(bank_clean,y_factor)"
      ],
      "metadata": {
        "colab": {
          "base_uri": "https://localhost:8080/",
          "height": 34
        },
        "id": "lgVLFCMjfS2r",
        "outputId": "ff0ed522-b799-4c4d-b656-283b84a7496c"
      },
      "execution_count": 87,
      "outputs": [
        {
          "output_type": "display_data",
          "data": {
            "text/html": [
              "<style>\n",
              ".dl-inline {width: auto; margin:0; padding: 0}\n",
              ".dl-inline>dt, .dl-inline>dd {float: none; width: auto; display: inline-block}\n",
              ".dl-inline>dt::after {content: \":\\0020\"; padding-right: .5ex}\n",
              ".dl-inline>dt:not(:first-of-type) {padding-left: .5ex}\n",
              "</style><dl class=dl-inline><dt>no</dt><dd>39922</dd><dt>yes</dt><dd>5289</dd></dl>\n"
            ],
            "text/markdown": "no\n:   39922yes\n:   5289\n\n",
            "text/latex": "\\begin{description*}\n\\item[no] 39922\n\\item[yes] 5289\n\\end{description*}\n",
            "text/plain": [
              "   no   yes \n",
              "39922  5289 "
            ]
          },
          "metadata": {}
        }
      ]
    },
    {
      "cell_type": "markdown",
      "source": [
        " Counts\n",
        " no = 39,922  \n",
        " yes = 5,289    \n",
        " 5289/(39922+5289)=  0.1169848 approx = 11.7%,    \n",
        " Similar to the original study by Moro et al. 2014   \n",
        " The classes are significantly imbalanced,    \n",
        " so simply constantly predicting y='no' will be correct about 88.3% of the time   \n",
        "\n"
      ],
      "metadata": {
        "id": "q_CaUTbmfXkB"
      }
    },
    {
      "cell_type": "code",
      "source": [
        "# pdays - values for -1, we assume are NA, no recorded value\n",
        "bank_clean['pdays'][bank_clean['pdays'] == -1]<-NA\n",
        "pdays<-bank_clean['pdays']\n",
        "#How many NA and how many real values are there? 8,257 real, 36,954 NAs\n",
        "length(bank_clean$pdays)-sum(is.na(bank_clean$pdays))\n",
        "summary(bank_clean$pdays)"
      ],
      "metadata": {
        "colab": {
          "base_uri": "https://localhost:8080/",
          "height": 69
        },
        "id": "Im4as0RVc7dk",
        "outputId": "a4d3f6d6-46c9-4a61-ffd7-16aa2098c1e7"
      },
      "execution_count": 88,
      "outputs": [
        {
          "output_type": "display_data",
          "data": {
            "text/html": [
              "8257"
            ],
            "text/markdown": "8257",
            "text/latex": "8257",
            "text/plain": [
              "[1] 8257"
            ]
          },
          "metadata": {}
        },
        {
          "output_type": "display_data",
          "data": {
            "text/plain": [
              "   Min. 1st Qu.  Median    Mean 3rd Qu.    Max.    NA's \n",
              "    1.0   133.0   194.0   224.6   327.0   871.0   36954 "
            ]
          },
          "metadata": {}
        }
      ]
    },
    {
      "cell_type": "code",
      "source": [
        "# Delete the now factorised variables from the working data i.e.  \n",
        "library('dplyr')\n",
        "bank_clean <- dplyr::select(bank_clean,-job,-marital,-education,-default,-housing,-loan,\n",
        "                     -contact, -poutcome,-month,-day,-pdays,-y)"
      ],
      "metadata": {
        "id": "vjrjK3rMfvds"
      },
      "execution_count": 89,
      "outputs": []
    },
    {
      "cell_type": "code",
      "source": [
        "# bank clean contains the dependent variables plus y_factor, the binary dependent variable\n",
        "independent_variables <- dplyr::select (bank_clean,-y_factor)"
      ],
      "metadata": {
        "id": "2zOEw_ZxfxUh"
      },
      "execution_count": 90,
      "outputs": []
    },
    {
      "cell_type": "code",
      "source": [
        "# Print the column names of our working data for visual inspection of the columns remaining\n",
        "colnames(bank_clean)\n",
        "colnames(independent_variables)"
      ],
      "metadata": {
        "colab": {
          "base_uri": "https://localhost:8080/",
          "height": 52
        },
        "id": "2qZjZemcfzPl",
        "outputId": "81157535-da0a-4541-9bbf-83321c2f3c09"
      },
      "execution_count": 91,
      "outputs": [
        {
          "output_type": "display_data",
          "data": {
            "text/html": [
              "<style>\n",
              ".list-inline {list-style: none; margin:0; padding: 0}\n",
              ".list-inline>li {display: inline-block}\n",
              ".list-inline>li:not(:last-child)::after {content: \"\\00b7\"; padding: 0 .5ex}\n",
              "</style>\n",
              "<ol class=list-inline><li>'age'</li><li>'balance'</li><li>'duration'</li><li>'campaign'</li><li>'previous'</li><li>'job_factor'</li><li>'marital_factor'</li><li>'education_factor'</li><li>'default_factor'</li><li>'housing_factor'</li><li>'loan_factor'</li><li>'month_factor'</li><li>'contact_factor'</li><li>'poutcome_factor'</li><li>'y_factor'</li></ol>\n"
            ],
            "text/markdown": "1. 'age'\n2. 'balance'\n3. 'duration'\n4. 'campaign'\n5. 'previous'\n6. 'job_factor'\n7. 'marital_factor'\n8. 'education_factor'\n9. 'default_factor'\n10. 'housing_factor'\n11. 'loan_factor'\n12. 'month_factor'\n13. 'contact_factor'\n14. 'poutcome_factor'\n15. 'y_factor'\n\n\n",
            "text/latex": "\\begin{enumerate*}\n\\item 'age'\n\\item 'balance'\n\\item 'duration'\n\\item 'campaign'\n\\item 'previous'\n\\item 'job\\_factor'\n\\item 'marital\\_factor'\n\\item 'education\\_factor'\n\\item 'default\\_factor'\n\\item 'housing\\_factor'\n\\item 'loan\\_factor'\n\\item 'month\\_factor'\n\\item 'contact\\_factor'\n\\item 'poutcome\\_factor'\n\\item 'y\\_factor'\n\\end{enumerate*}\n",
            "text/plain": [
              " [1] \"age\"              \"balance\"          \"duration\"         \"campaign\"        \n",
              " [5] \"previous\"         \"job_factor\"       \"marital_factor\"   \"education_factor\"\n",
              " [9] \"default_factor\"   \"housing_factor\"   \"loan_factor\"      \"month_factor\"    \n",
              "[13] \"contact_factor\"   \"poutcome_factor\"  \"y_factor\"        "
            ]
          },
          "metadata": {}
        },
        {
          "output_type": "display_data",
          "data": {
            "text/html": [
              "<style>\n",
              ".list-inline {list-style: none; margin:0; padding: 0}\n",
              ".list-inline>li {display: inline-block}\n",
              ".list-inline>li:not(:last-child)::after {content: \"\\00b7\"; padding: 0 .5ex}\n",
              "</style>\n",
              "<ol class=list-inline><li>'age'</li><li>'balance'</li><li>'duration'</li><li>'campaign'</li><li>'previous'</li><li>'job_factor'</li><li>'marital_factor'</li><li>'education_factor'</li><li>'default_factor'</li><li>'housing_factor'</li><li>'loan_factor'</li><li>'month_factor'</li><li>'contact_factor'</li><li>'poutcome_factor'</li></ol>\n"
            ],
            "text/markdown": "1. 'age'\n2. 'balance'\n3. 'duration'\n4. 'campaign'\n5. 'previous'\n6. 'job_factor'\n7. 'marital_factor'\n8. 'education_factor'\n9. 'default_factor'\n10. 'housing_factor'\n11. 'loan_factor'\n12. 'month_factor'\n13. 'contact_factor'\n14. 'poutcome_factor'\n\n\n",
            "text/latex": "\\begin{enumerate*}\n\\item 'age'\n\\item 'balance'\n\\item 'duration'\n\\item 'campaign'\n\\item 'previous'\n\\item 'job\\_factor'\n\\item 'marital\\_factor'\n\\item 'education\\_factor'\n\\item 'default\\_factor'\n\\item 'housing\\_factor'\n\\item 'loan\\_factor'\n\\item 'month\\_factor'\n\\item 'contact\\_factor'\n\\item 'poutcome\\_factor'\n\\end{enumerate*}\n",
            "text/plain": [
              " [1] \"age\"              \"balance\"          \"duration\"         \"campaign\"        \n",
              " [5] \"previous\"         \"job_factor\"       \"marital_factor\"   \"education_factor\"\n",
              " [9] \"default_factor\"   \"housing_factor\"   \"loan_factor\"      \"month_factor\"    \n",
              "[13] \"contact_factor\"   \"poutcome_factor\" "
            ]
          },
          "metadata": {}
        }
      ]
    },
    {
      "cell_type": "code",
      "source": [
        "# Get summary statistics for our working dataframe\n",
        "summary(bank_clean)"
      ],
      "metadata": {
        "colab": {
          "base_uri": "https://localhost:8080/",
          "height": 572
        },
        "id": "2S-qTH1gf0NA",
        "outputId": "62ebbce4-30a0-47f3-d059-929756a1cd31"
      },
      "execution_count": 92,
      "outputs": [
        {
          "output_type": "display_data",
          "data": {
            "text/plain": [
              "      age           balance          duration         campaign     \n",
              " Min.   :18.00   Min.   : -8019   Min.   :   0.0   Min.   : 1.000  \n",
              " 1st Qu.:33.00   1st Qu.:    72   1st Qu.: 103.0   1st Qu.: 1.000  \n",
              " Median :39.00   Median :   448   Median : 180.0   Median : 2.000  \n",
              " Mean   :40.94   Mean   :  1362   Mean   : 258.2   Mean   : 2.764  \n",
              " 3rd Qu.:48.00   3rd Qu.:  1428   3rd Qu.: 319.0   3rd Qu.: 3.000  \n",
              " Max.   :95.00   Max.   :102127   Max.   :4918.0   Max.   :63.000  \n",
              "                                                                   \n",
              "    previous              job_factor    marital_factor   education_factor\n",
              " Min.   :  0.0000   blue-collar:9732   divorced: 5207   primary  : 6851  \n",
              " 1st Qu.:  0.0000   management :9458   married :27214   secondary:23202  \n",
              " Median :  0.0000   technician :7597   single  :12790   tertiary :13301  \n",
              " Mean   :  0.5803   admin.     :5171                    unknown  : 1857  \n",
              " 3rd Qu.:  0.0000   services   :4154                                     \n",
              " Max.   :275.0000   retired    :2264                                     \n",
              "                    (Other)    :6835                                     \n",
              " default_factor housing_factor loan_factor  month_factor     contact_factor \n",
              " no :44396      no :20081      no :37967   may    :13766   cellular :29285  \n",
              " yes:  815      yes:25130      yes: 7244   jul    : 6895   telephone: 2906  \n",
              "                                           aug    : 6247   unknown  :13020  \n",
              "                                           jun    : 5341                    \n",
              "                                           nov    : 3970                    \n",
              "                                           apr    : 2932                    \n",
              "                                           (Other): 6060                    \n",
              " poutcome_factor y_factor   \n",
              " failure: 4901   no :39922  \n",
              " other  : 1840   yes: 5289  \n",
              " success: 1511              \n",
              " unknown:36959              \n",
              "                            \n",
              "                            \n",
              "                            "
            ]
          },
          "metadata": {}
        }
      ]
    },
    {
      "cell_type": "code",
      "source": [],
      "metadata": {
        "id": "nHnjeWYyf3DG"
      },
      "execution_count": null,
      "outputs": []
    }
  ]
}